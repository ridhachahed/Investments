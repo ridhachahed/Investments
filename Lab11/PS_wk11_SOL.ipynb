{
 "cells": [
  {
   "cell_type": "markdown",
   "metadata": {},
   "source": [
    "# Assignment 11: Exercise 2"
   ]
  },
  {
   "cell_type": "code",
   "execution_count": 1,
   "metadata": {},
   "outputs": [
    {
     "name": "stdout",
     "output_type": "stream",
     "text": [
      "C:\\Users\\123\\Documents\\Acad\\TA_Inv\\year18\n"
     ]
    }
   ],
   "source": [
    "%cd C:\\Users\\123\\Documents\\Acad\\TA_Inv\\year18"
   ]
  },
  {
   "cell_type": "code",
   "execution_count": 2,
   "metadata": {},
   "outputs": [
    {
     "data": {
      "text/html": [
       "<style>\n",
       ".output_wrapper, .output {\n",
       "    height:auto !important;\n",
       "    max-height:10000px;  /* your desired max-height here */\n",
       "}\n",
       ".output_scroll {\n",
       "    box-shadow:none !important;\n",
       "    webkit-box-shadow:none !important;\n",
       "}\n",
       "</style>"
      ],
      "text/plain": [
       "<IPython.core.display.HTML object>"
      ]
     },
     "metadata": {},
     "output_type": "display_data"
    }
   ],
   "source": [
    "%%html\n",
    "<style>\n",
    ".output_wrapper, .output {\n",
    "    height:auto !important;\n",
    "    max-height:10000px;  /* your desired max-height here */\n",
    "}\n",
    ".output_scroll {\n",
    "    box-shadow:none !important;\n",
    "    webkit-box-shadow:none !important;\n",
    "}\n",
    "</style>"
   ]
  },
  {
   "cell_type": "code",
   "execution_count": 79,
   "metadata": {},
   "outputs": [
    {
     "name": "stdout",
     "output_type": "stream",
     "text": [
      "               w\n",
      "Australia  0.016\n",
      "Canada     0.022\n",
      "France     0.052\n",
      "Germany    0.055\n",
      "Japan      0.116\n",
      "UK         0.124\n",
      "US         0.615\n"
     ]
    }
   ],
   "source": [
    "print(df_weq)"
   ]
  },
  {
   "cell_type": "code",
   "execution_count": 81,
   "metadata": {},
   "outputs": [],
   "source": [
    "import numpy as np\n",
    "import pandas as pd\n",
    "import matplotlib.pyplot as plt\n",
    "df_corr = pd.read_excel('BL_data.xlsx','Sheet1',usecols=range(8),index_col=0)\n",
    "df_weq  = pd.read_excel('BL_data.xlsx','Sheet1',usecols=[0,11],index_col=0)\n",
    "df_sig  = pd.read_excel('BL_data.xlsx','Sheet1',usecols=[0,10],index_col=0)\n",
    "\n",
    "gamma   = 2.5\n",
    "tau     = 0.05\n",
    "Om_diag = np.array([0.021,0.017,0.03])*tau\n",
    "\n",
    "N       = len(df_sig)\n",
    "vec1    = np.ones((N,1))\n",
    "weq     = df_weq.values.reshape((N,1))\n",
    "sig     = df_sig.values.reshape((N,1))\n",
    "Sigma   = np.multiply(np.multiply((sig@vec1.T),df_corr.values),(vec1@sig.T))\n"
   ]
  },
  {
   "cell_type": "markdown",
   "metadata": {},
   "source": [
    "(a)"
   ]
  },
  {
   "cell_type": "code",
   "execution_count": 86,
   "metadata": {},
   "outputs": [
    {
     "data": {
      "text/html": [
       "<div>\n",
       "<style scoped>\n",
       "    .dataframe tbody tr th:only-of-type {\n",
       "        vertical-align: middle;\n",
       "    }\n",
       "\n",
       "    .dataframe tbody tr th {\n",
       "        vertical-align: top;\n",
       "    }\n",
       "\n",
       "    .dataframe thead th {\n",
       "        text-align: right;\n",
       "    }\n",
       "</style>\n",
       "<table border=\"1\" class=\"dataframe\">\n",
       "  <thead>\n",
       "    <tr style=\"text-align: right;\">\n",
       "      <th></th>\n",
       "      <th>$\\mu_0$</th>\n",
       "    </tr>\n",
       "  </thead>\n",
       "  <tbody>\n",
       "    <tr>\n",
       "      <th>Australia</th>\n",
       "      <td>0.0394</td>\n",
       "    </tr>\n",
       "    <tr>\n",
       "      <th>Canada</th>\n",
       "      <td>0.0692</td>\n",
       "    </tr>\n",
       "    <tr>\n",
       "      <th>France</th>\n",
       "      <td>0.0836</td>\n",
       "    </tr>\n",
       "    <tr>\n",
       "      <th>Germany</th>\n",
       "      <td>0.0903</td>\n",
       "    </tr>\n",
       "    <tr>\n",
       "      <th>Japan</th>\n",
       "      <td>0.0430</td>\n",
       "    </tr>\n",
       "    <tr>\n",
       "      <th>UK</th>\n",
       "      <td>0.0677</td>\n",
       "    </tr>\n",
       "    <tr>\n",
       "      <th>US</th>\n",
       "      <td>0.0756</td>\n",
       "    </tr>\n",
       "  </tbody>\n",
       "</table>\n",
       "</div>"
      ],
      "text/plain": [
       "           $\\mu_0$\n",
       "Australia   0.0394\n",
       "Canada      0.0692\n",
       "France      0.0836\n",
       "Germany     0.0903\n",
       "Japan       0.0430\n",
       "UK          0.0677\n",
       "US          0.0756"
      ]
     },
     "metadata": {},
     "output_type": "display_data"
    }
   ],
   "source": [
    "mu0 = gamma*(Sigma@weq)\n",
    "display(pd.DataFrame(data=np.around(mu0,4),columns=['$\\mu_0$'],index=df_weq.index))\n"
   ]
  },
  {
   "cell_type": "markdown",
   "metadata": {},
   "source": [
    "(b)"
   ]
  },
  {
   "cell_type": "code",
   "execution_count": 87,
   "metadata": {},
   "outputs": [
    {
     "data": {
      "text/html": [
       "<div>\n",
       "<style scoped>\n",
       "    .dataframe tbody tr th:only-of-type {\n",
       "        vertical-align: middle;\n",
       "    }\n",
       "\n",
       "    .dataframe tbody tr th {\n",
       "        vertical-align: top;\n",
       "    }\n",
       "\n",
       "    .dataframe thead th {\n",
       "        text-align: right;\n",
       "    }\n",
       "</style>\n",
       "<table border=\"1\" class=\"dataframe\">\n",
       "  <thead>\n",
       "    <tr style=\"text-align: right;\">\n",
       "      <th></th>\n",
       "      <th>$w_0$</th>\n",
       "      <th>$w_0$-$w_{eq}$</th>\n",
       "    </tr>\n",
       "  </thead>\n",
       "  <tbody>\n",
       "    <tr>\n",
       "      <th>Australia</th>\n",
       "      <td>0.0152</td>\n",
       "      <td>-0.0008</td>\n",
       "    </tr>\n",
       "    <tr>\n",
       "      <th>Canada</th>\n",
       "      <td>0.0210</td>\n",
       "      <td>-0.0010</td>\n",
       "    </tr>\n",
       "    <tr>\n",
       "      <th>France</th>\n",
       "      <td>0.0495</td>\n",
       "      <td>-0.0025</td>\n",
       "    </tr>\n",
       "    <tr>\n",
       "      <th>Germany</th>\n",
       "      <td>0.0524</td>\n",
       "      <td>-0.0026</td>\n",
       "    </tr>\n",
       "    <tr>\n",
       "      <th>Japan</th>\n",
       "      <td>0.1105</td>\n",
       "      <td>-0.0055</td>\n",
       "    </tr>\n",
       "    <tr>\n",
       "      <th>UK</th>\n",
       "      <td>0.1181</td>\n",
       "      <td>-0.0059</td>\n",
       "    </tr>\n",
       "    <tr>\n",
       "      <th>US</th>\n",
       "      <td>0.5857</td>\n",
       "      <td>-0.0293</td>\n",
       "    </tr>\n",
       "  </tbody>\n",
       "</table>\n",
       "</div>"
      ],
      "text/plain": [
       "            $w_0$  $w_0$-$w_{eq}$\n",
       "Australia  0.0152         -0.0008\n",
       "Canada     0.0210         -0.0010\n",
       "France     0.0495         -0.0025\n",
       "Germany    0.0524         -0.0026\n",
       "Japan      0.1105         -0.0055\n",
       "UK         0.1181         -0.0059\n",
       "US         0.5857         -0.0293"
      ]
     },
     "metadata": {},
     "output_type": "display_data"
    }
   ],
   "source": [
    "Omega0       = tau*Sigma\n",
    "mu_hat       = mu0\n",
    "Sigma_hat    = Sigma+Omega0\n",
    "\n",
    "w0 = np.linalg.inv(gamma*Sigma_hat)@mu_hat\n",
    "display(pd.DataFrame(data=np.around(np.concatenate((w0,np.add(w0,-weq)),axis=1),4),columns=['$w_0$','$w_0$-$w_{eq}$'],index=df_weq.index))\n"
   ]
  },
  {
   "cell_type": "markdown",
   "metadata": {},
   "source": [
    "(c)"
   ]
  },
  {
   "cell_type": "code",
   "execution_count": 117,
   "metadata": {},
   "outputs": [
    {
     "name": "stdout",
     "output_type": "stream",
     "text": [
      "The posterior distribution of the mean return has mean:\n"
     ]
    },
    {
     "data": {
      "text/html": [
       "<div>\n",
       "<style scoped>\n",
       "    .dataframe tbody tr th:only-of-type {\n",
       "        vertical-align: middle;\n",
       "    }\n",
       "\n",
       "    .dataframe tbody tr th {\n",
       "        vertical-align: top;\n",
       "    }\n",
       "\n",
       "    .dataframe thead th {\n",
       "        text-align: right;\n",
       "    }\n",
       "</style>\n",
       "<table border=\"1\" class=\"dataframe\">\n",
       "  <thead>\n",
       "    <tr style=\"text-align: right;\">\n",
       "      <th></th>\n",
       "      <th>$\\hat{\\mu}$</th>\n",
       "    </tr>\n",
       "  </thead>\n",
       "  <tbody>\n",
       "    <tr>\n",
       "      <th>Australia</th>\n",
       "      <td>0.0442</td>\n",
       "    </tr>\n",
       "    <tr>\n",
       "      <th>Canada</th>\n",
       "      <td>0.0874</td>\n",
       "    </tr>\n",
       "    <tr>\n",
       "      <th>France</th>\n",
       "      <td>0.0949</td>\n",
       "    </tr>\n",
       "    <tr>\n",
       "      <th>Germany</th>\n",
       "      <td>0.1122</td>\n",
       "    </tr>\n",
       "    <tr>\n",
       "      <th>Japan</th>\n",
       "      <td>0.0462</td>\n",
       "    </tr>\n",
       "    <tr>\n",
       "      <th>UK</th>\n",
       "      <td>0.0697</td>\n",
       "    </tr>\n",
       "    <tr>\n",
       "      <th>US</th>\n",
       "      <td>0.0748</td>\n",
       "    </tr>\n",
       "  </tbody>\n",
       "</table>\n",
       "</div>"
      ],
      "text/plain": [
       "           $\\hat{\\mu}$\n",
       "Australia       0.0442\n",
       "Canada          0.0874\n",
       "France          0.0949\n",
       "Germany         0.1122\n",
       "Japan           0.0462\n",
       "UK              0.0697\n",
       "US              0.0748"
      ]
     },
     "metadata": {},
     "output_type": "display_data"
    },
    {
     "name": "stdout",
     "output_type": "stream",
     "text": [
      "and variance-covariance matrix:\n"
     ]
    },
    {
     "data": {
      "text/html": [
       "<div>\n",
       "<style scoped>\n",
       "    .dataframe tbody tr th:only-of-type {\n",
       "        vertical-align: middle;\n",
       "    }\n",
       "\n",
       "    .dataframe tbody tr th {\n",
       "        vertical-align: top;\n",
       "    }\n",
       "\n",
       "    .dataframe thead th {\n",
       "        text-align: right;\n",
       "    }\n",
       "</style>\n",
       "<table border=\"1\" class=\"dataframe\">\n",
       "  <thead>\n",
       "    <tr style=\"text-align: right;\">\n",
       "      <th></th>\n",
       "      <th>Australia</th>\n",
       "      <th>Canada</th>\n",
       "      <th>France</th>\n",
       "      <th>Germany</th>\n",
       "      <th>Japan</th>\n",
       "      <th>UK</th>\n",
       "      <th>US</th>\n",
       "    </tr>\n",
       "  </thead>\n",
       "  <tbody>\n",
       "    <tr>\n",
       "      <th>Australia</th>\n",
       "      <td>0.0012</td>\n",
       "      <td>0.0007</td>\n",
       "      <td>0.0009</td>\n",
       "      <td>0.0010</td>\n",
       "      <td>0.0007</td>\n",
       "      <td>0.0008</td>\n",
       "      <td>0.0007</td>\n",
       "    </tr>\n",
       "    <tr>\n",
       "      <th>Canada</th>\n",
       "      <td>0.0007</td>\n",
       "      <td>0.0018</td>\n",
       "      <td>0.0015</td>\n",
       "      <td>0.0015</td>\n",
       "      <td>0.0006</td>\n",
       "      <td>0.0012</td>\n",
       "      <td>0.0015</td>\n",
       "    </tr>\n",
       "    <tr>\n",
       "      <th>France</th>\n",
       "      <td>0.0009</td>\n",
       "      <td>0.0015</td>\n",
       "      <td>0.0029</td>\n",
       "      <td>0.0025</td>\n",
       "      <td>0.0009</td>\n",
       "      <td>0.0019</td>\n",
       "      <td>0.0015</td>\n",
       "    </tr>\n",
       "    <tr>\n",
       "      <th>Germany</th>\n",
       "      <td>0.0010</td>\n",
       "      <td>0.0015</td>\n",
       "      <td>0.0025</td>\n",
       "      <td>0.0028</td>\n",
       "      <td>0.0009</td>\n",
       "      <td>0.0020</td>\n",
       "      <td>0.0015</td>\n",
       "    </tr>\n",
       "    <tr>\n",
       "      <th>Japan</th>\n",
       "      <td>0.0007</td>\n",
       "      <td>0.0006</td>\n",
       "      <td>0.0009</td>\n",
       "      <td>0.0009</td>\n",
       "      <td>0.0022</td>\n",
       "      <td>0.0008</td>\n",
       "      <td>0.0006</td>\n",
       "    </tr>\n",
       "    <tr>\n",
       "      <th>UK</th>\n",
       "      <td>0.0008</td>\n",
       "      <td>0.0012</td>\n",
       "      <td>0.0019</td>\n",
       "      <td>0.0020</td>\n",
       "      <td>0.0008</td>\n",
       "      <td>0.0020</td>\n",
       "      <td>0.0012</td>\n",
       "    </tr>\n",
       "    <tr>\n",
       "      <th>US</th>\n",
       "      <td>0.0007</td>\n",
       "      <td>0.0015</td>\n",
       "      <td>0.0015</td>\n",
       "      <td>0.0015</td>\n",
       "      <td>0.0006</td>\n",
       "      <td>0.0012</td>\n",
       "      <td>0.0016</td>\n",
       "    </tr>\n",
       "  </tbody>\n",
       "</table>\n",
       "</div>"
      ],
      "text/plain": [
       "           Australia  Canada  France  Germany   Japan      UK      US\n",
       "Australia     0.0012  0.0007  0.0009   0.0010  0.0007  0.0008  0.0007\n",
       "Canada        0.0007  0.0018  0.0015   0.0015  0.0006  0.0012  0.0015\n",
       "France        0.0009  0.0015  0.0029   0.0025  0.0009  0.0019  0.0015\n",
       "Germany       0.0010  0.0015  0.0025   0.0028  0.0009  0.0020  0.0015\n",
       "Japan         0.0007  0.0006  0.0009   0.0009  0.0022  0.0008  0.0006\n",
       "UK            0.0008  0.0012  0.0019   0.0020  0.0008  0.0020  0.0012\n",
       "US            0.0007  0.0015  0.0015   0.0015  0.0006  0.0012  0.0016"
      ]
     },
     "metadata": {},
     "output_type": "display_data"
    },
    {
     "name": "stdout",
     "output_type": "stream",
     "text": [
      "The formulas on slide 11 indeed give the same answers:\n",
      "6.938893903907228e-17\n",
      "3.469446951953614e-18\n"
     ]
    }
   ],
   "source": [
    "q   = np.array([0.05,0.03]).reshape((2,1))\n",
    "P1  = np.array([0,0,float(-weq[2]/(weq[2]+weq[5])),1,0,-float(weq[5]/(weq[2]+weq[5])),0])\n",
    "P2  = np.array([0,1,0,0,0,0,-1])\n",
    "P   = np.vstack((P1,P2))\n",
    "\n",
    "Omega       = np.diag(Om_diag[:2])\n",
    "\n",
    "# Posterior distribution\n",
    "def posterior_dist(mu0,Omega0,q,Omega,P):\n",
    "    mu_hat     = mu0+(Omega0@P.T)@np.linalg.inv((P@Omega0)@P.T+Omega)@(q-P@mu0)\n",
    "    Omega_hat  = Omega0-(Omega0@P.T)@np.linalg.inv(P@(Omega0@P.T)+Omega)@(P@Omega0)\n",
    "    return mu_hat,Omega_hat\n",
    "    \n",
    "#Formula 1:\n",
    "mu_hat,Omega_hat = posterior_dist(mu0,Omega0,q,Omega,P)\n",
    "print('The posterior distribution of the mean return has mean:')\n",
    "display(pd.DataFrame(data=np.around(mu_hat,4),columns=['$\\hat{\\mu}$'],index=df_weq.index))\n",
    "print('and variance-covariance matrix:')\n",
    "display(pd.DataFrame(data=np.around(Omega_hat,4),columns=df_weq.index,index=df_weq.index))\n",
    "\n",
    "#Formula 2:\n",
    "invOmega0  = np.linalg.inv(Omega0)\n",
    "invOmega   = np.linalg.inv(Omega)\n",
    "\n",
    "mu_hat2    = np.linalg.inv(invOmega0+P.T@invOmega@P)@(invOmega0@mu0+P.T@invOmega@q)\n",
    "Omega_hat2 = np.linalg.inv(invOmega0+P.T@invOmega@P)\n",
    "\n",
    "#Verify that both formulas agree:\n",
    "print('The formulas on slide 11 indeed give the same answers:')\n",
    "print(np.max(np.abs(mu_hat-mu_hat2)))\n",
    "print(np.max(np.abs(Omega_hat-Omega_hat2)))\n",
    "\n"
   ]
  },
  {
   "cell_type": "markdown",
   "metadata": {},
   "source": [
    "(d)"
   ]
  },
  {
   "cell_type": "code",
   "execution_count": 118,
   "metadata": {},
   "outputs": [
    {
     "data": {
      "text/html": [
       "<div>\n",
       "<style scoped>\n",
       "    .dataframe tbody tr th:only-of-type {\n",
       "        vertical-align: middle;\n",
       "    }\n",
       "\n",
       "    .dataframe tbody tr th {\n",
       "        vertical-align: top;\n",
       "    }\n",
       "\n",
       "    .dataframe thead th {\n",
       "        text-align: right;\n",
       "    }\n",
       "</style>\n",
       "<table border=\"1\" class=\"dataframe\">\n",
       "  <thead>\n",
       "    <tr style=\"text-align: right;\">\n",
       "      <th></th>\n",
       "      <th>$w^*$</th>\n",
       "      <th>$w^*$-$w_0$</th>\n",
       "      <th>$w^*$-$w_{eq}$</th>\n",
       "    </tr>\n",
       "  </thead>\n",
       "  <tbody>\n",
       "    <tr>\n",
       "      <th>Australia</th>\n",
       "      <td>0.0152</td>\n",
       "      <td>0.0000</td>\n",
       "      <td>-0.0008</td>\n",
       "    </tr>\n",
       "    <tr>\n",
       "      <th>Canada</th>\n",
       "      <td>0.4189</td>\n",
       "      <td>0.3980</td>\n",
       "      <td>0.3969</td>\n",
       "    </tr>\n",
       "    <tr>\n",
       "      <th>France</th>\n",
       "      <td>-0.0349</td>\n",
       "      <td>-0.0844</td>\n",
       "      <td>-0.0869</td>\n",
       "    </tr>\n",
       "    <tr>\n",
       "      <th>Germany</th>\n",
       "      <td>0.3381</td>\n",
       "      <td>0.2857</td>\n",
       "      <td>0.2831</td>\n",
       "    </tr>\n",
       "    <tr>\n",
       "      <th>Japan</th>\n",
       "      <td>0.1105</td>\n",
       "      <td>0.0000</td>\n",
       "      <td>-0.0055</td>\n",
       "    </tr>\n",
       "    <tr>\n",
       "      <th>UK</th>\n",
       "      <td>-0.0832</td>\n",
       "      <td>-0.2013</td>\n",
       "      <td>-0.2072</td>\n",
       "    </tr>\n",
       "    <tr>\n",
       "      <th>US</th>\n",
       "      <td>0.1877</td>\n",
       "      <td>-0.3980</td>\n",
       "      <td>-0.4273</td>\n",
       "    </tr>\n",
       "  </tbody>\n",
       "</table>\n",
       "</div>"
      ],
      "text/plain": [
       "            $w^*$  $w^*$-$w_0$  $w^*$-$w_{eq}$\n",
       "Australia  0.0152       0.0000         -0.0008\n",
       "Canada     0.4189       0.3980          0.3969\n",
       "France    -0.0349      -0.0844         -0.0869\n",
       "Germany    0.3381       0.2857          0.2831\n",
       "Japan      0.1105       0.0000         -0.0055\n",
       "UK        -0.0832      -0.2013         -0.2072\n",
       "US         0.1877      -0.3980         -0.4273"
      ]
     },
     "metadata": {},
     "output_type": "display_data"
    }
   ],
   "source": [
    "def black_litterman(mu0,q,Omega,tau,P,gamma):\n",
    "    Omega0     = tau*Sigma\n",
    "    Lambda     = np.linalg.inv((P@Sigma)@P.T+(1+1/tau)*Omega)@(q-1/(1+tau)*(P@mu0))/gamma\n",
    "    w          = w0+P.T@Lambda\n",
    "    return w,Lambda\n",
    "\n",
    "ws,Lambda  = black_litterman(mu0,q,Omega,tau,P,gamma)\n",
    "\n",
    "display(pd.DataFrame(data=np.around(np.concatenate((ws,np.add(ws,-w0),np.add(ws,-weq)),axis=1),4),\\\n",
    "     columns=['$w^*$','$w^*$-$w_0$','$w^*$-$w_{eq}$'],index=df_weq.index))\n"
   ]
  },
  {
   "cell_type": "markdown",
   "metadata": {},
   "source": [
    "(e)"
   ]
  },
  {
   "cell_type": "code",
   "execution_count": 119,
   "metadata": {},
   "outputs": [
    {
     "data": {
      "text/html": [
       "<div>\n",
       "<style scoped>\n",
       "    .dataframe tbody tr th:only-of-type {\n",
       "        vertical-align: middle;\n",
       "    }\n",
       "\n",
       "    .dataframe tbody tr th {\n",
       "        vertical-align: top;\n",
       "    }\n",
       "\n",
       "    .dataframe thead th {\n",
       "        text-align: right;\n",
       "    }\n",
       "</style>\n",
       "<table border=\"1\" class=\"dataframe\">\n",
       "  <thead>\n",
       "    <tr style=\"text-align: right;\">\n",
       "      <th></th>\n",
       "      <th>view-weights</th>\n",
       "    </tr>\n",
       "  </thead>\n",
       "  <tbody>\n",
       "    <tr>\n",
       "      <th>$\\lambda_1$</th>\n",
       "      <td>0.286</td>\n",
       "    </tr>\n",
       "    <tr>\n",
       "      <th>$\\lambda_2$</th>\n",
       "      <td>0.398</td>\n",
       "    </tr>\n",
       "  </tbody>\n",
       "</table>\n",
       "</div>"
      ],
      "text/plain": [
       "             view-weights\n",
       "$\\lambda_1$         0.286\n",
       "$\\lambda_2$         0.398"
      ]
     },
     "metadata": {},
     "output_type": "display_data"
    }
   ],
   "source": [
    "display(pd.DataFrame(data=np.around(Lambda,3),\\\n",
    "     columns=['view-weights'],index=['$\\lambda_1$','$\\lambda_2$']))\n"
   ]
  },
  {
   "cell_type": "markdown",
   "metadata": {},
   "source": [
    "(f)"
   ]
  },
  {
   "cell_type": "code",
   "execution_count": 120,
   "metadata": {},
   "outputs": [
    {
     "data": {
      "text/html": [
       "<div>\n",
       "<style scoped>\n",
       "    .dataframe tbody tr th:only-of-type {\n",
       "        vertical-align: middle;\n",
       "    }\n",
       "\n",
       "    .dataframe tbody tr th {\n",
       "        vertical-align: top;\n",
       "    }\n",
       "\n",
       "    .dataframe thead th {\n",
       "        text-align: right;\n",
       "    }\n",
       "</style>\n",
       "<table border=\"1\" class=\"dataframe\">\n",
       "  <thead>\n",
       "    <tr style=\"text-align: right;\">\n",
       "      <th></th>\n",
       "      <th>$w^*$</th>\n",
       "    </tr>\n",
       "  </thead>\n",
       "  <tbody>\n",
       "    <tr>\n",
       "      <th>Australia</th>\n",
       "      <td>0.0152</td>\n",
       "    </tr>\n",
       "    <tr>\n",
       "      <th>Canada</th>\n",
       "      <td>0.4171</td>\n",
       "    </tr>\n",
       "    <tr>\n",
       "      <th>France</th>\n",
       "      <td>-0.0338</td>\n",
       "    </tr>\n",
       "    <tr>\n",
       "      <th>Germany</th>\n",
       "      <td>0.3345</td>\n",
       "    </tr>\n",
       "    <tr>\n",
       "      <th>Japan</th>\n",
       "      <td>0.1683</td>\n",
       "    </tr>\n",
       "    <tr>\n",
       "      <th>UK</th>\n",
       "      <td>-0.0807</td>\n",
       "    </tr>\n",
       "    <tr>\n",
       "      <th>US</th>\n",
       "      <td>0.1895</td>\n",
       "    </tr>\n",
       "  </tbody>\n",
       "</table>\n",
       "</div>"
      ],
      "text/plain": [
       "            $w^*$\n",
       "Australia  0.0152\n",
       "Canada     0.4171\n",
       "France    -0.0338\n",
       "Germany    0.3345\n",
       "Japan      0.1683\n",
       "UK        -0.0807\n",
       "US         0.1895"
      ]
     },
     "metadata": {},
     "output_type": "display_data"
    },
    {
     "data": {
      "text/html": [
       "<div>\n",
       "<style scoped>\n",
       "    .dataframe tbody tr th:only-of-type {\n",
       "        vertical-align: middle;\n",
       "    }\n",
       "\n",
       "    .dataframe tbody tr th {\n",
       "        vertical-align: top;\n",
       "    }\n",
       "\n",
       "    .dataframe thead th {\n",
       "        text-align: right;\n",
       "    }\n",
       "</style>\n",
       "<table border=\"1\" class=\"dataframe\">\n",
       "  <thead>\n",
       "    <tr style=\"text-align: right;\">\n",
       "      <th></th>\n",
       "      <th>view-weights</th>\n",
       "    </tr>\n",
       "  </thead>\n",
       "  <tbody>\n",
       "    <tr>\n",
       "      <th>$\\lambda_1$</th>\n",
       "      <td>0.2822</td>\n",
       "    </tr>\n",
       "    <tr>\n",
       "      <th>$\\lambda_2$</th>\n",
       "      <td>0.3962</td>\n",
       "    </tr>\n",
       "    <tr>\n",
       "      <th>$\\lambda_3$</th>\n",
       "      <td>0.0578</td>\n",
       "    </tr>\n",
       "  </tbody>\n",
       "</table>\n",
       "</div>"
      ],
      "text/plain": [
       "             view-weights\n",
       "$\\lambda_1$        0.2822\n",
       "$\\lambda_2$        0.3962\n",
       "$\\lambda_3$        0.0578"
      ]
     },
     "metadata": {},
     "output_type": "display_data"
    }
   ],
   "source": [
    "q   = np.array([0.05,0.03,0.055]).reshape((3,1))\n",
    "P3  = np.array([0,0,0,0,1,0,0])\n",
    "P   = np.vstack((P1,P2,P3))\n",
    "\n",
    "Omega = np.diag(Om_diag)\n",
    "mu_hat,Omega_hat = posterior_dist(mu0,Omega0,q,Omega,P)\n",
    "ws,Lambda = black_litterman(mu0,q,Omega,tau,P,gamma)\n",
    "\n",
    "display(pd.DataFrame(data=np.around(ws,4),\\\n",
    "     columns=['$w^*$'],index=df_weq.index))\n",
    "display(pd.DataFrame(data=np.around(Lambda,4),\\\n",
    "     columns=['view-weights'],index=['$\\lambda_1$','$\\lambda_2$','$\\lambda_3$']))\n"
   ]
  },
  {
   "cell_type": "code",
   "execution_count": 121,
   "metadata": {},
   "outputs": [
    {
     "data": {
      "image/png": "[encoded data removed]",
      "text/plain": [
       "<Figure size 432x288 with 1 Axes>"
      ]
     },
     "metadata": {},
     "output_type": "display_data"
    }
   ],
   "source": [
    "Np         = 100\n",
    "Om33_grd   = np.linspace(0.005,0.05,Np)*tau\n",
    "Lambda_grd = np.empty((100,3)) \n",
    "for i in range(Np): \n",
    "    Om_diag_    = Om_diag\n",
    "    Om_diag_[2] = Om33_grd[i]\n",
    "    Omega       = np.diag(Om_diag[:3])\n",
    "    \n",
    "    mu_hat,Omega_hat = posterior_dist(mu0,Omega0,q,Omega,P)\n",
    "    ws,Lambda  = black_litterman(mu0,q,Omega,tau,P,gamma)\n",
    "    Lambda_grd[i,:] = Lambda.T\n",
    "\n",
    "plt.plot(Om33_grd,Lambda_grd[:,2],'b-')\n",
    "plt.xlabel('$\\Omega_{33}$')\n",
    "plt.ylabel('$\\lambda_3$')\n",
    "plt.show()\n"
   ]
  },
  {
   "cell_type": "code",
   "execution_count": null,
   "metadata": {
    "collapsed": true
   },
   "outputs": [],
   "source": []
  }
 ],
 "metadata": {
  "kernelspec": {
   "display_name": "Python 3",
   "language": "python",
   "name": "python3"
  },
  "language_info": {
   "codemirror_mode": {
    "name": "ipython",
    "version": 3
   },
   "file_extension": ".py",
   "mimetype": "text/x-python",
   "name": "python",
   "nbconvert_exporter": "python",
   "pygments_lexer": "ipython3",
   "version": "3.6.5"
  }
 },
 "nbformat": 4,
 "nbformat_minor": 2
}
