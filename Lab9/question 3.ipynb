{
 "cells": [
  {
   "cell_type": "markdown",
   "metadata": {},
   "source": [
    "# Assignment 9: Exercise 3\n"
   ]
  },
  {
   "cell_type": "code",
   "execution_count": 1,
   "metadata": {},
   "outputs": [
    {
     "data": {
      "text/html": [
       "<style>\n",
       ".output_wrapper, .output {\n",
       "    height:auto !important;\n",
       "    max-height:10000px;  /* your desired max-height here */\n",
       "}\n",
       ".output_scroll {\n",
       "    box-shadow:none !important;\n",
       "    webkit-box-shadow:none !important;\n",
       "}\n",
       "</style>"
      ],
      "text/plain": [
       "<IPython.core.display.HTML object>"
      ]
     },
     "metadata": {},
     "output_type": "display_data"
    }
   ],
   "source": [
    "%%html\n",
    "<style>\n",
    ".output_wrapper, .output {\n",
    "    height:auto !important;\n",
    "    max-height:10000px;  /* your desired max-height here */\n",
    "}\n",
    ".output_scroll {\n",
    "    box-shadow:none !important;\n",
    "    webkit-box-shadow:none !important;\n",
    "}\n",
    "</style>"
   ]
  },
  {
   "cell_type": "code",
   "execution_count": 1,
   "metadata": {
    "collapsed": true
   },
   "outputs": [],
   "source": [
    "import numpy as np\n",
    "import pandas as pd\n",
    "import matplotlib.pyplot as plt\n",
    "import matplotlib.dates as mdates\n",
    "\n",
    "mu      = 0\n",
    "gamma   = 1\n",
    "n_init  = 1000000\n",
    "sigma_a = 0.3 \n",
    "#Remark: Compared to the question sheet, \n",
    "#here I set the volatility at a lower value \n",
    "#in order to obtain nicer (\"smoother\") graphs. \n",
    "#With 45% annualized volatility, the liquidation speed \n",
    "#was very high, as you have seen in your simulations!\n",
    "\n",
    "time_start = '09:00:00'\n",
    "time_end   = '16:00:00'\n",
    "\n",
    "def f_time_schedule(time_start,time_end,freq_sec): \n",
    "    time_schedule  = pd.date_range(time_start,time_end,freq=\"%sS\"%freq_sec)\n",
    "    return time_schedule\n",
    "\n",
    "def f_tcosts(time_schedule,lunch_start,lunch_end,lda_low,lda_high): \n",
    "    T          = len(time_schedule)\n",
    "    time_start = pd.to_datetime(lunch_start)\n",
    "    time_end   = pd.to_datetime(lunch_end)\n",
    "    lda        = np.empty((T,1))\n",
    "    for t in range(T): \n",
    "        lda[t] = lda_low + \\\n",
    "            (time_schedule[t]>=time_start)*(time_schedule[t]<=time_end)*(lda_high-lda_low)\n",
    "    return lda\n",
    "\n",
    "def f_trading_pattern(mu,gamma,n_init,sigma_a,time_schedule,lunch_start,lunch_end,lda_low,lda_high):\n",
    "    \n",
    "    #Trade schedule volatility, & t-costs\n",
    "    T              = len(time_schedule)\n",
    "    sigma          = sigma_a/np.sqrt(252*(T-1))\n",
    "    lda            = f_tcosts(time_schedule,lunch_start,lunch_end,lda_low,lda_high)\n",
    "\n",
    "    #Coefficients at time t=T+1,T-1,...,1\n",
    "    Q    = np.ones((T+1,1))\n",
    "    q    = np.ones((T+1,1))\n",
    "    C    = np.ones((T+1,1))\n",
    "    Q[T] = 0\n",
    "    q[T] = 0\n",
    "    C[T] = 0\n",
    "    for t in range(T-1,0,-1): \n",
    "        Q[t] = lda[t]*(1-lda[t]/(Q[t+1]+gamma*sigma**2+lda[t]))\n",
    "        q[t] = lda[t]*(q[t+1]+mu)/(Q[t+1]+gamma*sigma**2+lda[t])\n",
    "        C[t] = C[t+1]+0.5*(q[t+1]+mu)**2/(Q[t+1]+gamma*sigma**2+lda[t])\n",
    "\n",
    "    #Optimal trading at time t=0,1,2,...T    \n",
    "    tau      = np.divide(Q[:-1],lda)\n",
    "    aim      = np.divide(q[:-1],Q[:-1])\n",
    "    n_o      = np.empty((T,1))\n",
    "    tcost    = np.empty((T,1))\n",
    "    n_o[0]   = n_init\n",
    "    tcost[0] = 0\n",
    "    for t in range(1,T,1): \n",
    "        n_o[t]   = tau[t]*aim[t]+(1-tau[t])*n_o[t-1]\n",
    "        tcost[t] = tcost[t-1]+0.5*lda[t]*(n_o[t]-n_o[t-1])**2\n",
    "    return n_o,tcost,aim,tau,Q,q,C\n",
    "\n"
   ]
  },
  {
   "cell_type": "markdown",
   "metadata": {},
   "source": [
    "(d)"
   ]
  },
  {
   "cell_type": "code",
   "execution_count": 6,
   "metadata": {
    "scrolled": true
   },
   "outputs": [
    {
     "data": {
      "image/png": "[encoded data removed]",
      "text/plain": [
       "<matplotlib.figure.Figure at 0x1c83bb510b8>"
      ]
     },
     "metadata": {},
     "output_type": "display_data"
    }
   ],
   "source": [
    "#30min intervals\n",
    "time_schedule30 = f_time_schedule(time_start,time_end,30*60)\n",
    "n30,tcost30,aim30,tau30,Q30,q30,C30 = \\\n",
    "    f_trading_pattern(mu,gamma,n_init,sigma_a,time_schedule30,'12:00:00','14:00:00',0.0001,0.0001)\n",
    "\n",
    "#10min intervals\n",
    "time_schedule10 = f_time_schedule(time_start,time_end,10*60)\n",
    "n10,tcost10,aim10,tau10,Q10,q10,C10 = \\\n",
    "    f_trading_pattern(mu,gamma,n_init,sigma_a,time_schedule10,'12:00:00','14:00:00',0.0001,0.0001)\n",
    "\n",
    "#figure\n",
    "fig = plt.figure()\n",
    "ax1 = fig.add_subplot(111)\n",
    "ln1 = ax1.plot(time_schedule30,n30,'r*-',label=\"30 minutes\")\n",
    "ax1.xaxis.set_major_formatter(mdates.DateFormatter(\"%H\"))\n",
    "#ax2 = ax1.twiny()\n",
    "ln2 = ax1.plot(time_schedule10,n10,'b.-',label=\"10 minutes\")\n",
    "#ax2.xaxis.set_major_formatter(mdates.DateFormatter(\"%H\"))\n",
    "plt.xlabel('Time of day')\n",
    "plt.ylabel('# of shares held')\n",
    "plt.legend(loc='upper right')\n",
    "plt.show() \n"
   ]
  },
  {
   "cell_type": "markdown",
   "metadata": {},
   "source": [
    "(f)"
   ]
  },
  {
   "cell_type": "code",
   "execution_count": 7,
   "metadata": {},
   "outputs": [
    {
     "data": {
      "image/png": "[encoded data removed]",
      "text/plain": [
       "<matplotlib.figure.Figure at 0x1c83b811780>"
      ]
     },
     "metadata": {},
     "output_type": "display_data"
    }
   ],
   "source": [
    "#with lunch break\n",
    "time_schedulelun = f_time_schedule(time_start,time_end,10*60)\n",
    "nlun,tcostlun,aimlun,taulun,Qlun,qlun,Clun = \\\n",
    "    f_trading_pattern(mu,gamma,n_init,sigma_a,time_schedulelun,'12:00:00','14:00:00',0.0001,0.001)\n",
    "\n",
    "fig = plt.figure()\n",
    "ax1 = fig.add_subplot(111)\n",
    "ln1 = ax1.plot(time_schedulelun,nlun-n10,'b.-')\n",
    "ax1.xaxis.set_major_formatter(mdates.DateFormatter(\"%H\"))\n",
    "plt.xlabel('Time of day')\n",
    "plt.ylabel('Difference in # shares held')\n",
    "plt.legend(loc='upper right')\n",
    "plt.show() \n"
   ]
  },
  {
   "cell_type": "code",
   "execution_count": null,
   "metadata": {
    "collapsed": true
   },
   "outputs": [],
   "source": []
  }
 ],
 "metadata": {
  "kernelspec": {
   "display_name": "Python 3",
   "language": "python",
   "name": "python3"
  },
  "language_info": {
   "codemirror_mode": {
    "name": "ipython",
    "version": 3
   },
   "file_extension": ".py",
   "mimetype": "text/x-python",
   "name": "python",
   "nbconvert_exporter": "python",
   "pygments_lexer": "ipython3",
   "version": "3.6.5"
  }
 },
 "nbformat": 4,
 "nbformat_minor": 2
}
