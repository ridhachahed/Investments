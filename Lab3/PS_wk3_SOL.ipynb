{
 "cells": [
  {
   "cell_type": "code",
   "execution_count": 51,
   "metadata": {},
   "outputs": [
    {
     "name": "stdout",
     "output_type": "stream",
     "text": [
      "C:\\Users\\123\\Documents\\Acad\\TA_Inv\\year18\n"
     ]
    }
   ],
   "source": [
    "%cd C:\\Users\\123\\Documents\\Acad\\TA_Inv\\year18"
   ]
  },
  {
   "cell_type": "code",
   "execution_count": 1,
   "metadata": {},
   "outputs": [
    {
     "data": {
      "text/html": [
       "<style>\n",
       ".output_wrapper, .output {\n",
       "    height:auto !important;\n",
       "    max-height:10000px;  /* your desired max-height here */\n",
       "}\n",
       ".output_scroll {\n",
       "    box-shadow:none !important;\n",
       "    webkit-box-shadow:none !important;\n",
       "}\n",
       "</style>"
      ],
      "text/plain": [
       "<IPython.core.display.HTML object>"
      ]
     },
     "metadata": {},
     "output_type": "display_data"
    }
   ],
   "source": [
    "%%html\n",
    "<style>\n",
    ".output_wrapper, .output {\n",
    "    height:auto !important;\n",
    "    max-height:10000px;  /* your desired max-height here */\n",
    "}\n",
    ".output_scroll {\n",
    "    box-shadow:none !important;\n",
    "    webkit-box-shadow:none !important;\n",
    "}\n",
    "</style>"
   ]
  },
  {
   "cell_type": "code",
   "execution_count": 2,
   "metadata": {
    "collapsed": true
   },
   "outputs": [],
   "source": [
    "#EXERCISE 2"
   ]
  },
  {
   "cell_type": "code",
   "execution_count": 233,
   "metadata": {
    "scrolled": false
   },
   "outputs": [
    {
     "name": "stdout",
     "output_type": "stream",
     "text": [
      "Enter your WRDS username [sevogel]:sevogel\n",
      "Enter your password:········\n",
      "WRDS recommends setting up a .pgpass file.\n",
      "You can find more info here:\n",
      "https://www.postgresql.org/docs/9.5/static/libpq-pgpass.html.\n",
      "Loading library list...\n",
      "Done\n"
     ]
    }
   ],
   "source": [
    "import wrds\n",
    "db=wrds.Connection(wrds_username='sevogel')\n",
    "from datetime import datetime\n",
    "db.create_pgpass_file()"
   ]
  },
  {
   "cell_type": "code",
   "execution_count": 239,
   "metadata": {},
   "outputs": [],
   "source": [
    "import numpy as np\n",
    "import datetime\n",
    "\n",
    "# get risk-free rate see http://www.crsp.com/files/treasury_guide_0.pdf\n",
    "Rf=db.raw_sql(\"select  mcaldt,tmytm \"\n",
    "           \"from crsp.tfz_mth_rf \"           \n",
    "            \"where kytreasnox = 2000001 \"\n",
    "           \"and mcaldt>='1960-01-01'\"\n",
    "            \"and mcaldt<='2019-12-31'\", date_cols=['mcaldt'])\n",
    "\n",
    "#transform annualized and continuously compounded returns into simple and monthly returns:\n",
    "Rf['tmytm']=np.exp(Rf['tmytm']/12/100)-1\n",
    "Rf=Rf.rename(columns={ \"mcaldt\": \"date\",\"tmytm\": \"rf\"})\n",
    "\n",
    "\n",
    "# get stock index returns\n",
    "data=db.raw_sql(\"select  date,vwretd \"\n",
    "           \"from crsp.msi \"\n",
    "           \"where date>='1960-01-01'\"\n",
    "            \"and date<='2019-12-31'\", date_cols=['date'])\n",
    "\n",
    "# get bond data\n",
    "bonds=db.raw_sql(\"select  caldt, b2ret, b10ret \"\n",
    "           \"from crsp.mcti \"           \n",
    "            \"where caldt>='1960-01-01'\"\n",
    "            \"and caldt<='2019-12-31'\", date_cols=['caldt'])\n",
    "bonds=bonds.rename(columns={ \"caldt\": \"date\"})\n"
   ]
  },
  {
   "cell_type": "code",
   "execution_count": 240,
   "metadata": {},
   "outputs": [],
   "source": [
    "import pandas as pd\n",
    "riskfree= Rf[\"rf\"].mean()\n",
    "\n",
    "data = pd.merge(data,bonds, how='left', left_on=['date'],right_on='date')\n",
    "data[\"mix\"]=0.4*data[\"b2ret\"]+0.6*data[\"vwretd\"]\n",
    "bonds_mean=data[\"b2ret\"].mean()*12\n",
    "bonds_vol=data[\"b2ret\"].std()*np.sqrt(12)\n",
    "\n",
    "stocks_mean=data[\"vwretd\"].mean()*12\n",
    "stocks_vol=data[\"vwretd\"].std()*np.sqrt(12)\n",
    "\n",
    "mix_mean=data[\"mix\"].mean()*12\n",
    "mix_vol=data[\"mix\"].std()*np.sqrt(12)\n",
    "\n",
    "data[\"rpul\"]=(1/bonds_vol*data[\"b2ret\"]+1/stocks_vol*data[\"vwretd\"])/(1/bonds_vol+1/stocks_vol)\n",
    "rpul_mean=data[\"rpul\"].mean()*12\n",
    "rpul_vol=data[\"rpul\"].std()*np.sqrt(12)\n",
    "k=mix_vol/rpul_vol\n",
    "data[\"rp\"]=k*data[\"rpul\"]+(1-k)*riskfree\n",
    "\n",
    "rp_mean=data[\"rp\"].mean()*12\n",
    "rp_vol=data[\"rp\"].std()*np.sqrt(12)\n",
    "\n",
    "bonds_sr=(bonds_mean-riskfree*12)/bonds_vol\n",
    "stocks_sr=(stocks_mean-riskfree*12)/stocks_vol\n",
    "mix_sr=(mix_mean-riskfree*12)/mix_vol\n",
    "rpul_sr=(rpul_mean-riskfree*12)/rpul_vol\n",
    "rp_sr=(rp_mean-riskfree*12)/rp_vol\n",
    "\n"
   ]
  },
  {
   "cell_type": "code",
   "execution_count": 241,
   "metadata": {},
   "outputs": [
    {
     "name": "stdout",
     "output_type": "stream",
     "text": [
      "\n",
      "  Mean, standard deviation and Sharpe ratio of portfolio returns:\n"
     ]
    },
    {
     "data": {
      "text/html": [
       "<div>\n",
       "<style>\n",
       "    .dataframe thead tr:only-child th {\n",
       "        text-align: right;\n",
       "    }\n",
       "\n",
       "    .dataframe thead th {\n",
       "        text-align: left;\n",
       "    }\n",
       "\n",
       "    .dataframe tbody tr th {\n",
       "        vertical-align: top;\n",
       "    }\n",
       "</style>\n",
       "<table border=\"1\" class=\"dataframe\">\n",
       "  <thead>\n",
       "    <tr style=\"text-align: right;\">\n",
       "      <th></th>\n",
       "      <th>Sharpe</th>\n",
       "      <th>mean</th>\n",
       "      <th>volatiltiy</th>\n",
       "    </tr>\n",
       "  </thead>\n",
       "  <tbody>\n",
       "    <tr>\n",
       "      <th>stocks</th>\n",
       "      <td>0.418099</td>\n",
       "      <td>0.106528</td>\n",
       "      <td>0.150716</td>\n",
       "    </tr>\n",
       "    <tr>\n",
       "      <th>bonds</th>\n",
       "      <td>0.458133</td>\n",
       "      <td>0.056463</td>\n",
       "      <td>0.028266</td>\n",
       "    </tr>\n",
       "    <tr>\n",
       "      <th>60/20</th>\n",
       "      <td>0.469539</td>\n",
       "      <td>0.086811</td>\n",
       "      <td>0.092214</td>\n",
       "    </tr>\n",
       "    <tr>\n",
       "      <th>RP</th>\n",
       "      <td>0.594579</td>\n",
       "      <td>0.098342</td>\n",
       "      <td>0.092214</td>\n",
       "    </tr>\n",
       "    <tr>\n",
       "      <th>RPunlev</th>\n",
       "      <td>0.594579</td>\n",
       "      <td>0.064451</td>\n",
       "      <td>0.035214</td>\n",
       "    </tr>\n",
       "    <tr>\n",
       "      <th>tangency</th>\n",
       "      <td>0.595205</td>\n",
       "      <td>0.063736</td>\n",
       "      <td>0.033975</td>\n",
       "    </tr>\n",
       "  </tbody>\n",
       "</table>\n",
       "</div>"
      ],
      "text/plain": [
       "            Sharpe      mean  volatiltiy\n",
       "stocks    0.418099  0.106528    0.150716\n",
       "bonds     0.458133  0.056463    0.028266\n",
       "60/20     0.469539  0.086811    0.092214\n",
       "RP        0.594579  0.098342    0.092214\n",
       "RPunlev   0.594579  0.064451    0.035214\n",
       "tangency  0.595205  0.063736    0.033975"
      ]
     },
     "metadata": {},
     "output_type": "display_data"
    },
    {
     "name": "stdout",
     "output_type": "stream",
     "text": [
      "\n",
      "  Covariance matrix:\n"
     ]
    },
    {
     "data": {
      "text/html": [
       "<div>\n",
       "<style>\n",
       "    .dataframe thead tr:only-child th {\n",
       "        text-align: right;\n",
       "    }\n",
       "\n",
       "    .dataframe thead th {\n",
       "        text-align: left;\n",
       "    }\n",
       "\n",
       "    .dataframe tbody tr th {\n",
       "        vertical-align: top;\n",
       "    }\n",
       "</style>\n",
       "<table border=\"1\" class=\"dataframe\">\n",
       "  <thead>\n",
       "    <tr style=\"text-align: right;\">\n",
       "      <th></th>\n",
       "      <th>bonds</th>\n",
       "      <th>stocks</th>\n",
       "    </tr>\n",
       "  </thead>\n",
       "  <tbody>\n",
       "    <tr>\n",
       "      <th>bonds</th>\n",
       "      <td>0.000799</td>\n",
       "      <td>0.000401</td>\n",
       "    </tr>\n",
       "    <tr>\n",
       "      <th>stocks</th>\n",
       "      <td>0.000401</td>\n",
       "      <td>0.022715</td>\n",
       "    </tr>\n",
       "  </tbody>\n",
       "</table>\n",
       "</div>"
      ],
      "text/plain": [
       "           bonds    stocks\n",
       "bonds   0.000799  0.000401\n",
       "stocks  0.000401  0.022715"
      ]
     },
     "metadata": {},
     "output_type": "display_data"
    },
    {
     "name": "stdout",
     "output_type": "stream",
     "text": [
      "risk-free rate: 0.043513489825433835\n"
     ]
    }
   ],
   "source": [
    "SIGMA = data[[\"vwretd\",\"b2ret\"]].cov().values*12\n",
    "INV_SIGMA = np.linalg.inv(SIGMA)\n",
    "\n",
    "w_stocks=(INV_SIGMA@(np.array([stocks_mean-riskfree*12,bonds_mean-riskfree*12])))/(np.ones(2)@INV_SIGMA@(np.array([stocks_mean-riskfree*12,bonds_mean-riskfree*12])))   \n",
    "\n",
    "data[\"tan\"]=(w_stocks[1]*data[\"b2ret\"]+w_stocks[0]*data[\"vwretd\"])\n",
    "tan_mean=data[\"tan\"].mean()*12\n",
    "tan_vol=data[\"tan\"].std()*np.sqrt(12)\n",
    "tan_sr=(tan_mean-riskfree*12)/tan_vol\n",
    "\n",
    "\n",
    "MU= np.array([stocks_mean,bonds_mean,mix_mean,rp_mean,rpul_mean,tan_mean])\n",
    "STD =np.array([stocks_vol,bonds_vol,mix_vol,rp_vol,rpul_vol,tan_vol])\n",
    "SR =np.array([stocks_sr,bonds_sr,mix_sr,rp_sr,rpul_sr,tan_sr])\n",
    "\n",
    "index = ['stocks', 'bonds', '60/20','RP','RPunlev','tangency']\n",
    "pStats = pd.DataFrame({'mean' : MU, \n",
    "                    'volatiltiy' : STD,\n",
    "                    'Sharpe' : SR\n",
    "                      })\n",
    "#pStats = pStats.reindex(['mean', 'volatility', 'sharpe ratio'])\n",
    "#pStats = pStats.T\n",
    "pStats.index  =index\n",
    "\n",
    "print('\\n  Mean, standard deviation and Sharpe ratio of portfolio returns:')\n",
    "display(np.around(pStats,6))\n",
    "\n",
    "covar = pd.DataFrame({'bonds' : [SIGMA[1,1],SIGMA[1,0]],\n",
    "                      'stocks' : [SIGMA[1,0],SIGMA[0,0]]\n",
    "                     })\n",
    "covar.index  =['bonds','stocks']\n",
    "print('\\n  Covariance matrix:')\n",
    "display(np.around(covar,6))\n",
    "print(\"risk-free rate:\", riskfree*12)"
   ]
  },
  {
   "cell_type": "code",
   "execution_count": 265,
   "metadata": {},
   "outputs": [
    {
     "name": "stdout",
     "output_type": "stream",
     "text": [
      "\n",
      " (d) Minimum-variance frontier and location of the 4 portfolios using ex-post performance:\n"
     ]
    },
    {
     "data": {
      "image/png": "[encoded data removed]",
      "text/plain": [
       "<matplotlib.figure.Figure at 0xca38df0>"
      ]
     },
     "metadata": {},
     "output_type": "display_data"
    }
   ],
   "source": [
    "import matplotlib.pyplot as plt\n",
    "\n",
    "#MV frontiers\n",
    "Mup = np.linspace(0.003,0.14,1000)\n",
    "MU = np.array([stocks_mean,bonds_mean])\n",
    "ONES=np.ones(2)\n",
    "\n",
    "A = (ONES@INV_SIGMA)@ONES\n",
    "B = (ONES@INV_SIGMA)@MU\n",
    "C = (MU@INV_SIGMA)@MU\n",
    "DELTA = A*C-B**2\n",
    "\n",
    "Sigmap = np.sqrt((A*np.multiply(Mup,Mup)-2*B*Mup+C)/DELTA)\n",
    "\n",
    "\n",
    "MU1= np.array([stocks_mean,bonds_mean,mix_mean,rp_mean,rpul_mean,tan_mean])\n",
    "STD1 =np.array([stocks_vol,bonds_vol,mix_vol,rp_vol,rpul_vol,tan_vol])\n",
    "\n",
    "plt.plot(Sigmap,Mup)\n",
    "plt.xlabel('Standard Deviation')\n",
    "plt.ylabel('Expected Return')\n",
    "plt.plot(STD1,MU1,'ro')\n",
    "plt.plot(0.0001,riskfree*12,'bo')\n",
    "plt.xlim(0, 0.20)\n",
    "\n",
    "plt.annotate('stocks', xy=(stocks_vol,stocks_mean), xytext=(stocks_vol-.01, stocks_mean-.02),\n",
    "            arrowprops=dict(arrowstyle=\"->\")\n",
    "            )\n",
    "plt.annotate('bonds', xy=(bonds_vol,bonds_mean), xytext=(bonds_vol-.01, bonds_mean-.02),\n",
    "            arrowprops=dict(arrowstyle=\"->\")\n",
    "            )\n",
    "plt.annotate('RP', xy=(rp_vol,rp_mean), xytext=(rp_vol-.01, rp_mean+.012),\n",
    "            arrowprops=dict(arrowstyle=\"->\")\n",
    "            )\n",
    "plt.annotate('RP unlevered', xy=(rpul_vol,rpul_mean), xytext=(rpul_vol+.01, rpul_mean-.01),\n",
    "            arrowprops=dict(arrowstyle=\"->\")\n",
    "            )\n",
    "plt.annotate('60/40', xy=(mix_vol,mix_mean), xytext=(mix_vol-.01, mix_mean-.02),\n",
    "            arrowprops=dict(arrowstyle=\"->\")\n",
    "            )\n",
    "plt.annotate('TAN', xy=(tan_vol,tan_mean), xytext=(tan_vol-.02, tan_mean+.01),\n",
    "            arrowprops=dict(arrowstyle=\"->\")\n",
    "            )\n",
    "plt.annotate('Rf', xy=(0, riskfree*12), xytext=(.001+.008, riskfree*12-.013),\n",
    "            arrowprops=dict(arrowstyle=\"->\")          \n",
    "            )\n",
    "sigma_values = np.linspace(0,0.15,100)\n",
    "\n",
    "# first plot\n",
    "efficient_line =riskfree*12+(tan_mean-riskfree*12)/tan_vol*sigma_values\n",
    "\n",
    "plt.plot(sigma_values,efficient_line)\n",
    "\n",
    "print('\\n (d) Minimum-variance frontier and location of the 4 portfolios using ex-post performance:')\n",
    "\n",
    "plt.savefig('frontier1.png', format='png')\n",
    "plt.show()\n"
   ]
  },
  {
   "cell_type": "code",
   "execution_count": 288,
   "metadata": {
    "collapsed": true
   },
   "outputs": [],
   "source": [
    "#first, download additional data to estimate standard deviations in the beginning of the sample\n",
    "\n",
    "# get risk-free rate see http://www.crsp.com/files/treasury_guide_0.pdf\n",
    "Rf=db.raw_sql(\"select  mcaldt,tmytm \"\n",
    "           \"from crsp.tfz_mth_rf \"           \n",
    "            \"where kytreasnox = 2000001 \"\n",
    "           \"and mcaldt>='1957-01-01'\"\n",
    "            \"and mcaldt<='2019-12-31'\", date_cols=['mcaldt'])\n",
    "\n",
    "#transform annualized and continuously compounded returns into simple and monthly returns:\n",
    "Rf['tmytm']=np.exp(Rf['tmytm']/12/100)-1\n",
    "Rf=Rf.rename(columns={ \"mcaldt\": \"date\",\"tmytm\": \"rf\"})\n",
    "\n",
    "\n",
    "# get stock index returns\n",
    "data=db.raw_sql(\"select  date,vwretd \"\n",
    "           \"from crsp.msi \"\n",
    "           \"where date>='1957-01-01'\"\n",
    "            \"and date<='2019-12-31'\", date_cols=['date'])\n",
    "\n",
    "# get bond data\n",
    "bonds=db.raw_sql(\"select  caldt, b2ret, b10ret \"\n",
    "           \"from crsp.mcti \"           \n",
    "            \"where caldt>='1957-01-01'\"\n",
    "            \"and caldt<='2019-12-31'\", date_cols=['caldt'])\n",
    "bonds=bonds.rename(columns={ \"caldt\": \"date\"})\n",
    "data = pd.merge(data,bonds, how='left', left_on=['date'],right_on='date')"
   ]
  },
  {
   "cell_type": "code",
   "execution_count": 289,
   "metadata": {},
   "outputs": [
    {
     "name": "stdout",
     "output_type": "stream",
     "text": [
      "\n",
      "  Mean, standard deviation and Sharpe ratio of portfolio returns:\n"
     ]
    },
    {
     "data": {
      "text/html": [
       "<div>\n",
       "<style>\n",
       "    .dataframe thead tr:only-child th {\n",
       "        text-align: right;\n",
       "    }\n",
       "\n",
       "    .dataframe thead th {\n",
       "        text-align: left;\n",
       "    }\n",
       "\n",
       "    .dataframe tbody tr th {\n",
       "        vertical-align: top;\n",
       "    }\n",
       "</style>\n",
       "<table border=\"1\" class=\"dataframe\">\n",
       "  <thead>\n",
       "    <tr style=\"text-align: right;\">\n",
       "      <th></th>\n",
       "      <th>Sharpe</th>\n",
       "      <th>mean</th>\n",
       "      <th>volatiltiy</th>\n",
       "    </tr>\n",
       "  </thead>\n",
       "  <tbody>\n",
       "    <tr>\n",
       "      <th>stocks</th>\n",
       "      <td>0.418099</td>\n",
       "      <td>0.106528</td>\n",
       "      <td>0.150716</td>\n",
       "    </tr>\n",
       "    <tr>\n",
       "      <th>bonds</th>\n",
       "      <td>0.458133</td>\n",
       "      <td>0.056463</td>\n",
       "      <td>0.028266</td>\n",
       "    </tr>\n",
       "    <tr>\n",
       "      <th>60/20</th>\n",
       "      <td>0.469539</td>\n",
       "      <td>0.086811</td>\n",
       "      <td>0.092214</td>\n",
       "    </tr>\n",
       "    <tr>\n",
       "      <th>RP (rolling stdev)</th>\n",
       "      <td>0.552784</td>\n",
       "      <td>0.094488</td>\n",
       "      <td>0.092214</td>\n",
       "    </tr>\n",
       "    <tr>\n",
       "      <th>RPunlev (rolling stdev)</th>\n",
       "      <td>0.552784</td>\n",
       "      <td>0.062310</td>\n",
       "      <td>0.034003</td>\n",
       "    </tr>\n",
       "    <tr>\n",
       "      <th>tangency</th>\n",
       "      <td>0.595205</td>\n",
       "      <td>0.063736</td>\n",
       "      <td>0.033975</td>\n",
       "    </tr>\n",
       "  </tbody>\n",
       "</table>\n",
       "</div>"
      ],
      "text/plain": [
       "                           Sharpe      mean  volatiltiy\n",
       "stocks                   0.418099  0.106528    0.150716\n",
       "bonds                    0.458133  0.056463    0.028266\n",
       "60/20                    0.469539  0.086811    0.092214\n",
       "RP (rolling stdev)       0.552784  0.094488    0.092214\n",
       "RPunlev (rolling stdev)  0.552784  0.062310    0.034003\n",
       "tangency                 0.595205  0.063736    0.033975"
      ]
     },
     "metadata": {},
     "output_type": "display_data"
    },
    {
     "name": "stdout",
     "output_type": "stream",
     "text": [
      "\n",
      " (d) Minimum-variance frontier and location of the 4 portfolios using ex-post performance:\n"
     ]
    },
    {
     "data": {
      "image/png": "[encoded data removed]",
      "text/plain": [
       "<matplotlib.figure.Figure at 0xca98090>"
      ]
     },
     "metadata": {},
     "output_type": "display_data"
    }
   ],
   "source": [
    "#compute rolling standard deviations\n",
    "data['stocks_vol_rolling']=data['vwretd'].rolling(window=36, min_periods=3).std()\n",
    "data['bonds_vol_rolling']=data['b2ret'].rolling(window=36, min_periods=3).std()\n",
    "\n",
    "data=data[data['date']>='1960-01-01']\n",
    "#compute portfolio returns etc\n",
    "data[\"rpul_rolling\"]=(1/data['bonds_vol_rolling']*data[\"b2ret\"]+1/data['stocks_vol_rolling']*data[\"vwretd\"])/(1/data['bonds_vol_rolling']+1/data['stocks_vol_rolling'])\n",
    "rpul_rolling_mean=data[\"rpul_rolling\"].mean()*12\n",
    "rpul_rolling_vol=data[\"rpul_rolling\"].std()*np.sqrt(12)\n",
    "k_rolling=mix_vol/rpul_rolling_vol\n",
    "data[\"rp_rolling\"]=k_rolling*data[\"rpul_rolling\"]+(1-k_rolling)*riskfree\n",
    "\n",
    "rp_rolling_mean=data[\"rp_rolling\"].mean()*12\n",
    "rp_rolling_vol=data[\"rp_rolling\"].std()*np.sqrt(12)\n",
    "\n",
    "rpul_rolling_sr=(rpul_rolling_mean-riskfree*12)/rpul_rolling_vol\n",
    "rp_rolling_sr=(rp_rolling_mean-riskfree*12)/rp_rolling_vol\n",
    "\n",
    "# print table\n",
    "MU= np.array([stocks_mean,bonds_mean,mix_mean,rp_rolling_mean,rpul_rolling_mean,tan_mean])\n",
    "STD =np.array([stocks_vol,bonds_vol,mix_vol,rp_rolling_vol,rpul_rolling_vol,tan_vol])\n",
    "SR =np.array([stocks_sr,bonds_sr,mix_sr,rp_rolling_sr,rpul_rolling_sr,tan_sr])\n",
    "\n",
    "index = ['stocks', 'bonds', '60/20','RP (rolling stdev)','RPunlev (rolling stdev)','tangency']\n",
    "pStats = pd.DataFrame({'mean' : MU, \n",
    "                    'volatiltiy' : STD,\n",
    "                    'Sharpe' : SR\n",
    "                      })\n",
    "#pStats = pStats.reindex(['mean', 'volatility', 'sharpe ratio'])\n",
    "#pStats = pStats.T\n",
    "pStats.index  =index\n",
    "\n",
    "print('\\n  Mean, standard deviation and Sharpe ratio of portfolio returns:')\n",
    "display(np.around(pStats,6))\n",
    "\n",
    "#make plot\n",
    "#MV frontiers\n",
    "Mup = np.linspace(0.003,0.14,1000)\n",
    "MU = np.array([stocks_mean,bonds_mean])\n",
    "ONES=np.ones(2)\n",
    "\n",
    "A = (ONES@INV_SIGMA)@ONES\n",
    "B = (ONES@INV_SIGMA)@MU\n",
    "C = (MU@INV_SIGMA)@MU\n",
    "DELTA = A*C-B**2\n",
    "\n",
    "Sigmap = np.sqrt((A*np.multiply(Mup,Mup)-2*B*Mup+C)/DELTA)\n",
    "\n",
    "\n",
    "MU1= np.array([stocks_mean,bonds_mean,mix_mean,rp_rolling_mean,rpul_rolling_mean,tan_mean])\n",
    "STD1 =np.array([stocks_vol,bonds_vol,mix_vol,rp_rolling_vol,rpul_rolling_vol,tan_vol])\n",
    "\n",
    "plt.plot(Sigmap,Mup)\n",
    "plt.xlabel('Standard Deviation')\n",
    "plt.ylabel('Expected Return')\n",
    "plt.plot(STD1,MU1,'ro')\n",
    "plt.plot(0.0001,riskfree*12,'bo')\n",
    "plt.xlim(0, 0.20)\n",
    "\n",
    "plt.annotate('stocks', xy=(stocks_vol,stocks_mean), xytext=(stocks_vol-.01, stocks_mean-.02),\n",
    "            arrowprops=dict(arrowstyle=\"->\")\n",
    "            )\n",
    "plt.annotate('bonds', xy=(bonds_vol,bonds_mean), xytext=(bonds_vol-.01, bonds_mean-.02),\n",
    "            arrowprops=dict(arrowstyle=\"->\")\n",
    "            )\n",
    "plt.annotate('RP (rolling stdev)', xy=(rp_rolling_vol,rp_rolling_mean), xytext=(rp_rolling_vol-.01, rp_rolling_mean+.012),\n",
    "            arrowprops=dict(arrowstyle=\"->\")\n",
    "            )\n",
    "plt.annotate('RP unlevered (rolling stdev)', xy=(rpul_rolling_vol,rpul_rolling_mean), xytext=(rpul_rolling_vol+.01, rpul_rolling_mean-.01),\n",
    "            arrowprops=dict(arrowstyle=\"->\")\n",
    "            )\n",
    "plt.annotate('60/40', xy=(mix_vol,mix_mean), xytext=(mix_vol-.01, mix_mean-.02),\n",
    "            arrowprops=dict(arrowstyle=\"->\")\n",
    "            )\n",
    "plt.annotate('TAN', xy=(tan_vol,tan_mean), xytext=(tan_vol-.02, tan_mean+.01),\n",
    "            arrowprops=dict(arrowstyle=\"->\")\n",
    "            )\n",
    "plt.annotate('Rf', xy=(0, riskfree*12), xytext=(.001+.008, riskfree*12-.013),\n",
    "            arrowprops=dict(arrowstyle=\"->\")          \n",
    "            )\n",
    "sigma_values = np.linspace(0,0.15,100)\n",
    "\n",
    "# first plot\n",
    "efficient_line =riskfree*12+(tan_mean-riskfree*12)/tan_vol*sigma_values\n",
    "\n",
    "plt.plot(sigma_values,efficient_line)\n",
    "\n",
    "print('\\n (d) Minimum-variance frontier and location of the 4 portfolios using ex-post performance:')\n",
    "plt.savefig('frontier2.png', format='png')\n",
    "plt.show()\n"
   ]
  },
  {
   "cell_type": "code",
   "execution_count": 291,
   "metadata": {},
   "outputs": [
    {
     "data": {
      "image/png": "[encoded data removed]",
      "text/plain": [
       "<matplotlib.figure.Figure at 0xca986d0>"
      ]
     },
     "metadata": {},
     "output_type": "display_data"
    },
    {
     "name": "stdout",
     "output_type": "stream",
     "text": [
      "\n",
      " (e) Optimal portfolio (with risk-free asset) of mean-variance optimizer:\n",
      "\n",
      " The portfolio weights are \n",
      " [ 0.4184  2.4915]\n",
      "\n",
      " The portfolio expected return is \n",
      " 0.1021\n",
      "\n",
      " The portfolio volatility is \n",
      " 0.0989\n",
      "\n",
      " The investor borrows 1.9099 of what he invests in the tangency portfolio.\n"
     ]
    }
   ],
   "source": [
    "import numpy as np \n",
    "import pandas as pd\n",
    "import matplotlib.pyplot as plt\n",
    "\n",
    "a=6\n",
    "\n",
    "#MV frontier\n",
    "Mup = np.linspace(0.003,0.14,1000)\n",
    "MU = np.array([stocks_mean,bonds_mean])\n",
    "ONES=np.ones(2)\n",
    "\n",
    "A = (ONES@INV_SIGMA)@ONES\n",
    "B = (ONES@INV_SIGMA)@MU\n",
    "C = (MU@INV_SIGMA)@MU\n",
    "DELTA = A*C-B**2\n",
    "\n",
    "Sigmap = np.sqrt((A*np.multiply(Mup,Mup)-2*B*Mup+C)/DELTA)\n",
    "    \n",
    "\n",
    "mup = Mup\n",
    "sigmap = Sigmap\n",
    "\n",
    "w_opt = (1-B/a)/A*INV_SIGMA@ONES + 1/a*INV_SIGMA@MU\n",
    "mu_opt = (1-B/a)/A*B + C/a\n",
    "var_opt = (1-B/a)/A + mu_opt/a\n",
    "sigma_opt = np.sqrt(var_opt)\n",
    "\n",
    "Ustar = mu_opt-a/2*var_opt\n",
    "sigmaIndiff = np.linspace(0,0.15,1000).reshape(1000,1)\n",
    "muIndiff = Ustar+a/2*sigmaIndiff**2;\n",
    "\n",
    "R = riskfree*12\n",
    "\n",
    "sigmap_rf = np.abs(mup-R)/np.sqrt(C-2*R*B+A*R**2)\n",
    "sigmap_rf = sigmap_rf.reshape(1000,1)\n",
    "\n",
    "#optimal portfolio for particular risk aversion\n",
    "w_opt = 1/a*INV_SIGMA@(MU-R)\n",
    "\n",
    "mu_opt = R+(w_opt@(MU-R))\n",
    "var_opt = (w_opt@SIGMA)@w_opt;\n",
    "sigma_opt = np.sqrt(var_opt)\n",
    "w_rf = 1-w_opt.sum()\n",
    "\n",
    "#corresponding indifference curve\n",
    "Ustar = mu_opt-a/2*var_opt\n",
    "muIndiff = Ustar+a/2*sigmaIndiff**2\n",
    "\n",
    "plt.plot(sigmap_rf,mup)\n",
    "plt.plot(sigmaIndiff,muIndiff)\n",
    "plt.plot(sigmap,mup)\n",
    "plt.plot(sigma_opt,mu_opt,'ro')\n",
    "plt.xlabel('Standard Deviation')\n",
    "plt.ylabel('Expected Return')\n",
    "plt.xlim(0, 0.15)\n",
    "plt.ylim(0.002, 0.20)\n",
    "\n",
    "plt.show()\n",
    "\n",
    "print('\\n (e) Optimal portfolio (with risk-free asset) of mean-variance optimizer:')\n",
    "print('\\n The portfolio weights are \\n',np.around(w_opt,4))\n",
    "print('\\n The portfolio expected return is \\n',np.around(mu_opt,4))\n",
    "print('\\n The portfolio volatility is \\n',np.around(sigma_opt,4))\n",
    "print('\\n The investor borrows',np.around(w_opt.sum()-1,4),\n",
    "      'of what he invests in the tangency portfolio.')\n",
    "\n"
   ]
  },
  {
   "cell_type": "markdown",
   "metadata": {},
   "source": [
    "adsfasdf"
   ]
  },
  {
   "cell_type": "code",
   "execution_count": null,
   "metadata": {},
   "outputs": [],
   "source": []
  },
  {
   "cell_type": "markdown",
   "metadata": {
    "collapsed": true
   },
   "source": []
  }
 ],
 "metadata": {
  "kernelspec": {
   "display_name": "Python 3",
   "language": "python",
   "name": "python3"
  },
  "language_info": {
   "codemirror_mode": {
    "name": "ipython",
    "version": 3
   },
   "file_extension": ".py",
   "mimetype": "text/x-python",
   "name": "python",
   "nbconvert_exporter": "python",
   "pygments_lexer": "ipython3",
   "version": "3.6.5"
  }
 },
 "nbformat": 4,
 "nbformat_minor": 2
}
