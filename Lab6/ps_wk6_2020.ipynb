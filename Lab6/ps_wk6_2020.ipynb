{
 "cells": [
  {
   "cell_type": "markdown",
   "metadata": {},
   "source": [
    "# Assignment 6"
   ]
  },
  {
   "cell_type": "code",
   "execution_count": 5,
   "metadata": {},
   "outputs": [
    {
     "data": {
      "text/html": [
       "<style>\n",
       ".output_wrapper, .output {\n",
       "    height:auto !important;\n",
       "    max-height:10000px;  /* your desired max-height here */\n",
       "}\n",
       ".output_scroll {\n",
       "    box-shadow:none !important;\n",
       "    webkit-box-shadow:none !important;\n",
       "}\n",
       "</style>"
      ],
      "text/plain": [
       "<IPython.core.display.HTML object>"
      ]
     },
     "metadata": {},
     "output_type": "display_data"
    }
   ],
   "source": [
    "%%html\n",
    "<style>\n",
    ".output_wrapper, .output {\n",
    "    height:auto !important;\n",
    "    max-height:10000px;  /* your desired max-height here */\n",
    "}\n",
    ".output_scroll {\n",
    "    box-shadow:none !important;\n",
    "    webkit-box-shadow:none !important;\n",
    "}\n",
    "</style>"
   ]
  },
  {
   "cell_type": "markdown",
   "metadata": {},
   "source": [
    "### Set up connection to WRDS..."
   ]
  },
  {
   "cell_type": "code",
   "execution_count": 38,
   "metadata": {},
   "outputs": [
    {
     "name": "stdout",
     "output_type": "stream",
     "text": [
      "Loading library list...\n",
      "Done\n"
     ]
    }
   ],
   "source": [
    "#sign in\n",
    "\n",
    "import wrds\n",
    "db=wrds.Connection(wrds_username='sevogel')\n",
    "#db.create_pgpass_file()\n"
   ]
  },
  {
   "cell_type": "markdown",
   "metadata": {},
   "source": [
    "### Download and format data"
   ]
  },
  {
   "cell_type": "code",
   "execution_count": 39,
   "metadata": {},
   "outputs": [
    {
     "name": "stdout",
     "output_type": "stream",
     "text": [
      "duplicates in data on returns?\n",
      "0 \n",
      "\n",
      " How many obervations do we have in a month?\n",
      "max: 2310\n",
      "min: 1403\n",
      "\n",
      " How often do we observe a given stock?\n",
      "max: 240\n",
      "min: 1\n",
      "\n",
      " Let us limit our attention to stocks we observe often enough...\n"
     ]
    }
   ],
   "source": [
    "import numpy as np\n",
    "import datetime\n",
    "import pandas as pd\n",
    "import datetime\n",
    "#################################\n",
    "# Get data\n",
    "#################################\n",
    "\n",
    "# get risk-free rate see http://www.crsp.com/files/treasury_guide_0.pdf\n",
    "Rf=db.raw_sql(\"select  mcaldt,tmytm \"\n",
    "           \"from crsp.tfz_mth_rf \"           \n",
    "            \"where kytreasnox = 2000001 \"\n",
    "           \"and mcaldt>='2000-01-01'\"\n",
    "            \"and mcaldt<='2019-12-31'\", date_cols=['mcaldt'])\n",
    "\n",
    "#transform annualized and continuously compounded returns into simple and monthly returns:\n",
    "Rf['tmytm']=np.exp(Rf['tmytm']/12/100)-1\n",
    "Rf=Rf.rename(columns={ \"mcaldt\": \"date\",\"tmytm\": \"rf\"})\n",
    "\n",
    "#use own index instead\n",
    "# get index returns\n",
    "data_index=db.raw_sql(\"select  date,vwretd \"\n",
    "           \"from crsp.msi \"\n",
    "           \"where date>='2000-01-01'\"\n",
    "            \"and date<='2019-12-31'\", date_cols=['date'])\n",
    "\n",
    "\n",
    "# get stock returns\n",
    "crsp_m = db.raw_sql(\"\"\"\n",
    "                      select a.permno, a.date, \n",
    "                      b.shrcd, b.exchcd,\n",
    "                      a.ret, a.shrout, a.prc\n",
    "                      from crsp.msf as a\n",
    "                      left join crsp.msenames as b\n",
    "                      on a.permno=b.permno\n",
    "                      and b.namedt<=a.date\n",
    "                      and a.date<=b.nameendt\n",
    "                      where a.date between '01/01/2000' and '12/31/2019'\n",
    "                      and b.exchcd between 1 and 2\n",
    "                      and b.shrcd between 10 and 11\n",
    "                      \"\"\", date_cols=['date']) \n",
    "msf=crsp_m.drop(['shrcd','exchcd'],axis=1)\n",
    "del(crsp_m) \n",
    "\n",
    "\n",
    "\n",
    "###################### taking care of delistings ########################\n",
    "#########################################################################\n",
    "\n",
    "## get data on delisting returns\n",
    "\n",
    "#mse_data = db.raw_sql(\"\"\"SELECT date, permno, dlret \n",
    "#           FROM crsp.mseall\n",
    "#           WHERE date between '01/01/1970' and '12/31/2018'\"\"\", date_cols=['date'])\n",
    "\n",
    "##check for duplicates\n",
    "#mse_data = mse_data[~mse_data.duplicated()].copy()\n",
    "#print('duplicates in data on dlret?')\n",
    "#print(mse_data.duplicated(subset=['date','permno']).sum(),'\\n')\n",
    "\n",
    "#merge with original dataset\n",
    "\n",
    "#msf =pd.merge(msf, mse_data, how='left', left_on=['permno','date'],right_on=['permno','date'])\n",
    "\n",
    "#del(mse_data) \n",
    "\n",
    "\n",
    "## Returns adjusted for delisting\n",
    "#msf['retadj'] = ((1+data['ret'].fillna(0))*(1+msf['dlret'].fillna(0))-1)\n",
    "#msf.loc[msf[['ret', 'dlret']].isnull().all(axis=1), 'retadj'] = np.nan\n",
    "#msf['ret']=msf['retadj']\n",
    "\n",
    "#msf=msf.drop(['dlret','retadj'],axis=1)\n",
    "\n",
    "######################### continue normally #############################\n",
    "#########################################################################\n",
    "\n",
    "#################################\n",
    "# Define some stuff...\n",
    "#################################\n",
    "\n",
    "# function to calculate value weighted return\n",
    "def wavg(group, avg_name, weight_name):\n",
    "    d = group[avg_name]\n",
    "    w = group[weight_name]\n",
    "    try:\n",
    "        return (d * w).sum() / w.sum()\n",
    "    except ZeroDivisionError:\n",
    "        return np.nan\n",
    "\n",
    "#variables\n",
    "msf['permno'] = msf['permno'].astype(int)\n",
    "msf['size'] = msf['shrout'] * msf['prc'].abs()\n",
    "msf['const'] = 1\n",
    "msf.sort_values(['permno','date'])\n",
    "\n",
    "msf['size_lag']= msf.groupby('permno')['size'].shift(1).to_frame()\n",
    "\n",
    "obs=msf[['const','permno']].groupby(['permno']).sum().reset_index().rename(columns={'const': 'obs'})\n",
    "msf = pd.merge(msf, obs, how='left', left_on=['permno'],right_on=['permno'])\n",
    "\n",
    "\n",
    "\n",
    "#################################\n",
    "# Compute excess returns\n",
    "#################################\n",
    "data_index = pd.merge(data_index, Rf, how='left', left_on=['date'],right_on='date')\n",
    "data_index['mprem']=(data_index['vwretd']-data_index['rf'])\n",
    "data = pd.merge(msf, data_index, how='left', left_on=['date'],right_on='date')\n",
    "data['exret']=data['ret']-data['rf']\n",
    "\n",
    "\n",
    "\n",
    "\n",
    "\n",
    "print('duplicates in data on returns?')\n",
    "print(data.duplicated(subset=['date','permno']).sum(),'\\n')\n",
    "\n",
    "print(' How many obervations do we have in a month?')\n",
    "print('max:', max(data[['date','const']].groupby('date').sum()['const'].values))\n",
    "print('min:', min(data[['date','const']].groupby('date').sum()['const'].values))\n",
    "\n",
    "print('\\n How often do we observe a given stock?')\n",
    "print('max:', max(data['obs'].values))\n",
    "print('min:', min(data['obs'].values))\n",
    "\n",
    "print('\\n Let us limit our attention to stocks we observe often enough...')\n",
    "\n"
   ]
  },
  {
   "cell_type": "code",
   "execution_count": 40,
   "metadata": {},
   "outputs": [],
   "source": [
    "# save data\n",
    "data.to_csv('data1.csv', sep=';', index=False)\n",
    "data_index.to_csv('data1_index.csv', sep=';', index=False)\n",
    "Rf.to_csv('Rf1.csv', sep=';', index=False)"
   ]
  },
  {
   "cell_type": "markdown",
   "metadata": {},
   "source": [
    "In case memory crashes, take a break here and load only the necessary data below..."
   ]
  },
  {
   "cell_type": "code",
   "execution_count": 50,
   "metadata": {},
   "outputs": [
    {
     "name": "stdout",
     "output_type": "stream",
     "text": [
      "A quick consistency check! \n",
      "\n",
      "The average value-weighted excess return in the sample is  0.004883993035746762 .\n",
      "\n",
      "The value-weighted return from CRSP is  0.00451006587858147 .\n",
      "\n",
      "The average risk-free rate is  0.0013152996576685293 .\n",
      "\n",
      "Looks alright!\n"
     ]
    }
   ],
   "source": [
    "import numpy as np\n",
    "import pandas as pd\n",
    "\n",
    "# function to calculate value weighted return\n",
    "def wavg(group, avg_name, weight_name):\n",
    "    d = group[avg_name]\n",
    "    w = group[weight_name]\n",
    "    try:\n",
    "        return (d * w).sum() / w.sum()\n",
    "    except ZeroDivisionError:\n",
    "        return np.nan\n",
    "    \n",
    "# load data\n",
    "data = pd.read_csv(\"data1.csv\", sep=';')\n",
    "data['date']=pd.to_datetime(data['date'], format='%Y-%m-%d')\n",
    "\n",
    "data_index = pd.read_csv(\"data1_index.csv\", sep=';')\n",
    "data_index['date']=pd.to_datetime(data_index['date'], format='%Y-%m-%d')\n",
    "\n",
    "Rf = pd.read_csv(\"Rf1.csv\", sep=';')\n",
    "Rf['date']=pd.to_datetime(Rf['date'], format='%Y-%m-%d')\n",
    "\n",
    "\n",
    "vwrets_mkt=data[data['date']>'1972-01-31'].groupby(['date']).apply(wavg, 'exret','size_lag')\\\n",
    ".to_frame().reset_index().rename(columns={0: 'vwret'})\n",
    "print('A quick consistency check! \\n')\n",
    "print('The average value-weighted excess return in the sample is ', vwrets_mkt['vwret'].mean(),'.\\n')\n",
    "print('The value-weighted return from CRSP is ', data_index[data_index['date']>'1972-01-31']['mprem'].values.mean(),'.\\n')\n",
    "print('The average risk-free rate is ', Rf['rf'].mean(),'.\\n')\n",
    "\n",
    "print('Looks alright!')"
   ]
  },
  {
   "cell_type": "code",
   "execution_count": 45,
   "metadata": {},
   "outputs": [],
   "source": [
    "# If price data is used, one needs to use the absolute values (some observations are negative)\n",
    "data['prc']=np.abs(data['prc'])"
   ]
  },
  {
   "cell_type": "code",
   "execution_count": 54,
   "metadata": {},
   "outputs": [
    {
     "name": "stdout",
     "output_type": "stream",
     "text": [
      " How many obervations do we have now in a year?\n",
      "max: 639\n",
      "min: 639\n",
      "\n",
      " How often do we observe a given stock now?\n",
      "max: 240\n",
      "min: 240\n"
     ]
    }
   ],
   "source": [
    "data=data[data.obs==240]\n",
    "\n",
    "#data = data[(data['ret'].notnull()) & (data['size_lag'].notnull())]\n",
    "\n",
    "print(' How many obervations do we have now in a year?')\n",
    "print('max:', max(data[['date','const']].groupby('date').sum()['const'].values))\n",
    "print('min:', min(data[['date','const']].groupby('date').sum()['const'].values))\n",
    "\n",
    "print('\\n How often do we observe a given stock now?')\n",
    "print('max:', max(data['obs'].values))\n",
    "print('min:', min(data['obs'].values))"
   ]
  },
  {
   "cell_type": "markdown",
   "metadata": {},
   "source": [
    "### Calculate betas for the whole sample period, get portfolio returns"
   ]
  },
  {
   "cell_type": "code",
   "execution_count": 59,
   "metadata": {},
   "outputs": [
    {
     "name": "stdout",
     "output_type": "stream",
     "text": [
      "        permno      prc\n",
      "183760   64899      NaN\n",
      "295923   84302      NaN\n",
      "335890   87541  12.0625\n",
      "        permno  prc\n",
      "183760   64899  NaN\n",
      "295923   84302  NaN\n",
      "Empty DataFrame\n",
      "Columns: [permno, prc]\n",
      "Index: []\n"
     ]
    }
   ],
   "source": [
    "print(data[['permno','prc']][data['ret'].isnull()].drop_duplicates())\n",
    "print(data[['permno','prc']][data['prc'].isnull()].drop_duplicates())\n",
    "print(data[['permno','prc']][data['shrout'].isnull()].drop_duplicates())"
   ]
  },
  {
   "cell_type": "code",
   "execution_count": 48,
   "metadata": {},
   "outputs": [
    {
     "name": "stdout",
     "output_type": "stream",
     "text": [
      "\n",
      " (a) betas and returns: whole sample and equally-weighted returns:\n"
     ]
    },
    {
     "data": {
      "image/png": "[encoded data removed]",
      "text/plain": [
       "<Figure size 432x288 with 1 Axes>"
      ]
     },
     "metadata": {},
     "output_type": "display_data"
    },
    {
     "name": "stdout",
     "output_type": "stream",
     "text": [
      "The market risk premium is  0.00451 .\n",
      "\n",
      "The actual slope is  0.00131 .\n",
      "\n"
     ]
    }
   ],
   "source": [
    "\n",
    "#drop some stuff that is not needed anymore\n",
    "#data=data.drop(['size','shrout','prc'],axis=1)\n",
    "\n",
    "#################################\n",
    "# Compute betas\n",
    "#################################\n",
    "\n",
    "############ for the whole sample #############################\n",
    "covariances=data.groupby('permno')['exret'].cov(data['mprem']).to_frame().reset_index().rename(columns={'exret': 'covar'})\n",
    "mvar=data.groupby('permno')['mprem'].var().to_frame().reset_index().rename(columns={'mprem': 'varm'})\n",
    "\n",
    "#merge new values with original dataset\n",
    "data = pd.merge(data, covariances, how='left', left_on=['permno'],right_on='permno')\n",
    "data = pd.merge(data, mvar, how='left', left_on=['permno'],right_on='permno')\n",
    "\n",
    "# cumpute the betas\n",
    "data['beta']=data['covar']/data['varm']\n",
    "\n",
    "#drop some stuff that is not needed anymore\n",
    "data=data.drop(['covar','vwretd', 'varm'],axis=1)\n",
    "\n",
    "#################################\n",
    "# Compute deciles\n",
    "#################################\n",
    "\n",
    "data['decile']=1+data[['beta','date']].groupby('date')\\\n",
    ".transform(lambda x: pd.qcut(x, 10, labels=False))\n",
    "\n",
    "\n",
    "data = data.sort_values(['decile', 'date'])\n",
    "\n",
    "\n",
    "\n",
    "#################################\n",
    "# Compute Equally Weighted Returns and Betas #\n",
    "#################################\n",
    "\n",
    "# in order to keep track of the dates, it is convenient to define an index\n",
    "data=data.set_index('date')  \n",
    "\n",
    "# equally weigthed return\n",
    "ewrets=data.groupby(['decile','date']).apply(wavg, 'ret','const')\\\n",
    ".to_frame().reset_index().rename(columns={0: 'ewret'})\n",
    "\n",
    "ewbetas=data.groupby(['decile']).apply(wavg, 'beta','const')\\\n",
    ".to_frame().reset_index().rename(columns={0: 'beta'})\n",
    "\n",
    "#avgewrets=ewrets.groupby(['decile']).apply(wavg, 'ewret','const')\\\n",
    "#.to_frame().reset_index().rename(columns={0: 'ewret_avg'})\n",
    "avgewrets=ewrets.groupby(['decile']).mean().reset_index()\n",
    "\n",
    "# convert data back to what we had before\n",
    "data=data.reset_index()\n",
    "\n",
    "\n",
    "\n",
    "#################################\n",
    "# Fama-McBeth #\n",
    "#################################\n",
    "import statsmodels.formula.api as sm\n",
    "\n",
    "regdata = pd.merge(avgewrets, ewbetas, how='left', left_on=['decile'],right_on='decile')\n",
    "\n",
    "result1 = sm.ols(formula=\"ewret ~ beta\", data=regdata).fit()\n",
    "\n",
    "\n",
    "\n",
    "#make plots of returns vs. beta\n",
    "import matplotlib.pyplot as plt\n",
    "#R0=Rf[Rf['date']>'1979-01-31']['rf'].mean()\n",
    "MP=data_index[data_index['date']>'1979-01-31']['mprem'].values.mean()\n",
    "\n",
    "beta_values = np.linspace(0,2.5,100)\n",
    "\n",
    "\n",
    "\n",
    "# first plot\n",
    "#CAPM_line = R0+MP*beta_values\n",
    "fitted_line=result1.params.values[0]+result1.params.values[1]*beta_values\n",
    "\n",
    "\n",
    "#plt.plot(beta_values,CAPM_line)\n",
    "plt.plot(beta_values,fitted_line)\n",
    "\n",
    "plt.plot(ewbetas['beta'].values,avgewrets['ewret'].values,'ro')\n",
    "#plt.plot(0,R0,'bo')\n",
    "plt.xlabel('beta')\n",
    "plt.ylabel('average return')\n",
    "plt.xlim(0, 2.5)\n",
    "plt.ylim(0, 0.02)\n",
    "plt.legend(['fitted','EW returns'], loc=0)\n",
    "print('\\n (a) betas and returns: whole sample and equally-weighted returns:')\n",
    "plt.savefig('ret_beta_full.png', format='png')\n",
    "\n",
    "plt.show()\n",
    "print('The market risk premium is ',np.round(MP,5) ,'.\\n')\n",
    "print('The actual slope is ',np.round(result1.params.values[1],5),'.\\n')"
   ]
  },
  {
   "cell_type": "markdown",
   "metadata": {},
   "source": [
    "# Splitting the sample"
   ]
  },
  {
   "cell_type": "code",
   "execution_count": 49,
   "metadata": {},
   "outputs": [
    {
     "name": "stdout",
     "output_type": "stream",
     "text": [
      "\n",
      " (a) betas and returns: second-half equally-weighted returns vs. first-half betas:\n"
     ]
    },
    {
     "data": {
      "image/png": "[encoded data removed]",
      "text/plain": [
       "<Figure size 432x288 with 1 Axes>"
      ]
     },
     "metadata": {},
     "output_type": "display_data"
    },
    {
     "name": "stdout",
     "output_type": "stream",
     "text": [
      "\n",
      " (a) betas and returns: second-half betas vs. first-half betas:\n"
     ]
    },
    {
     "data": {
      "image/png": "[encoded data removed]",
      "text/plain": [
       "<Figure size 432x288 with 1 Axes>"
      ]
     },
     "metadata": {},
     "output_type": "display_data"
    }
   ],
   "source": [
    "#define dummy variable for two parts of the sample\n",
    "\n",
    "data['half']=2\n",
    "data.loc[data['date']<'01-01-2010','half']=1\n",
    "\n",
    "#################################\n",
    "# Compute betas\n",
    "#################################\n",
    "\n",
    "############ for the whole sample #############################\n",
    "covariances1=data[data['date']<'01-01-2010'].groupby('permno')['exret'].cov(data['mprem']).to_frame().reset_index().rename(columns={'exret': 'covar1'})\n",
    "mvar1=data[data['date']<'01-01-2010'].groupby('permno')['mprem'].var().to_frame().reset_index().rename(columns={'mprem': 'varm1'})\n",
    "covariances2=data[data['date']>='01-01-2010'].groupby('permno')['exret'].cov(data['mprem']).to_frame().reset_index().rename(columns={'exret': 'covar2'})\n",
    "mvar2=data[data['date']>='01-01-2010'].groupby('permno')['mprem'].var().to_frame().reset_index().rename(columns={'mprem': 'varm2'})\n",
    "\n",
    "#merge new values with original dataset\n",
    "betas = pd.merge(covariances1, mvar1, how='left', left_on=['permno'],right_on='permno')\n",
    "betas = pd.merge(betas, covariances2, how='left', left_on=['permno'],right_on='permno')\n",
    "betas = pd.merge(betas, mvar2, how='left', left_on=['permno'],right_on='permno')\n",
    "\n",
    "# cumpute the betas\n",
    "betas['beta1']=betas['covar1']/betas['varm1']\n",
    "betas['beta2']=betas['covar2']/betas['varm2']\n",
    "\n",
    "#drop some stuff that is not needed anymore\n",
    "betas=betas.drop(['covar1', 'varm1','covar2', 'varm2'],axis=1)\n",
    "data= pd.merge(data, betas, how='left', left_on=['permno'],right_on='permno')\n",
    "\n",
    "\n",
    "#################################\n",
    "# Compute deciles\n",
    "#################################\n",
    "\n",
    "data['decile']=1+data[['beta1','date']].groupby('date')\\\n",
    ".transform(lambda x: pd.qcut(x, 10, labels=False))\n",
    "\n",
    "\n",
    "data = data.sort_values(['decile', 'date'])\n",
    "\n",
    "#################################\n",
    "# Compute Equally Weighted Returns and Betas #\n",
    "#################################\n",
    "\n",
    "# in order to keep track of the dates, it is convenient to define an index\n",
    "data=data.set_index('date')  \n",
    "\n",
    "# equally weigthed return\n",
    "ewrets2=data[data['half']==2].groupby(['decile','date']).apply(wavg, 'ret','const')\\\n",
    ".to_frame().reset_index().rename(columns={0: 'ewret'})\n",
    "\n",
    "ewbetas1=data[data['half']==1].groupby(['decile']).apply(wavg, 'beta1','const')\\\n",
    ".to_frame().reset_index().rename(columns={0: 'beta1'})\n",
    "\n",
    "ewbetas2=data[data['half']==2].groupby(['decile']).apply(wavg, 'beta2','const')\\\n",
    ".to_frame().reset_index().rename(columns={0: 'beta2'})\n",
    "\n",
    "\n",
    "\n",
    "#avgewrets=ewrets.groupby(['decile']).apply(wavg, 'ewret','const')\\\n",
    "#.to_frame().reset_index().rename(columns={0: 'ewret_avg'})\n",
    "avgewrets2=ewrets2.groupby(['decile']).mean().reset_index()\n",
    "\n",
    "# convert data back to what we had before\n",
    "data=data.reset_index()\n",
    "\n",
    "\n",
    "##### make plots\n",
    "\n",
    "plt.plot(ewbetas1['beta1'].values,avgewrets2['ewret'].values,'ro')\n",
    "#plt.plot(0,R0,'bo')\n",
    "plt.xlabel('beta')\n",
    "plt.ylabel('average return')\n",
    "plt.xlim(0, 2.5)\n",
    "plt.ylim(0, 0.02)\n",
    "plt.legend(['EW returns'], loc=0)\n",
    "print('\\n (a) betas and returns: second-half equally-weighted returns vs. first-half betas:')\n",
    "plt.savefig('ret2_beta1.png', format='png')\n",
    "plt.show()\n",
    "\n",
    "\n",
    "plt.plot(ewbetas1['beta1'].values,ewbetas2['beta2'].values,'ro')\n",
    "#plt.plot(0,R0,'bo')\n",
    "plt.xlabel('first-half beta')\n",
    "plt.ylabel('second-half beta')\n",
    "plt.xlim(0, 2.5)\n",
    "plt.ylim(0, 2.5)\n",
    "plt.legend(['betas'], loc=0)\n",
    "print('\\n (a) betas and returns: second-half betas vs. first-half betas:')\n",
    "plt.savefig('beta2_beta1.png', format='png')\n",
    "plt.show()\n",
    "\n"
   ]
  },
  {
   "cell_type": "code",
   "execution_count": null,
   "metadata": {},
   "outputs": [],
   "source": []
  },
  {
   "cell_type": "code",
   "execution_count": null,
   "metadata": {},
   "outputs": [],
   "source": []
  }
 ],
 "metadata": {
  "kernelspec": {
   "display_name": "Python 3",
   "language": "python",
   "name": "python3"
  },
  "language_info": {
   "codemirror_mode": {
    "name": "ipython",
    "version": 3
   },
   "file_extension": ".py",
   "mimetype": "text/x-python",
   "name": "python",
   "nbconvert_exporter": "python",
   "pygments_lexer": "ipython3",
   "version": "3.6.5"
  }
 },
 "nbformat": 4,
 "nbformat_minor": 2
}
